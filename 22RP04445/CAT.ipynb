{
 "cells": [
  {
   "cell_type": "code",
   "execution_count": 1,
   "metadata": {},
   "outputs": [
    {
     "name": "stdout",
     "output_type": "stream",
     "text": [
      "connector is connected\n"
     ]
    }
   ],
   "source": [
    "import mysql.connector\n",
    "print(\"connector is connected\")"
   ]
  },
  {
   "cell_type": "code",
   "execution_count": null,
   "metadata": {},
   "outputs": [
    {
     "name": "stdout",
     "output_type": "stream",
     "text": [
      "Connected to MySQL successfully!\n"
     ]
    }
   ],
   "source": [
    "# CONNECT TO MYSQL\n",
    "import mysql.connector\n",
    "\n",
    "conn = mysql.connector.connect(\n",
    "    host=\"localhost\",\n",
    "    user=\"root\",\n",
    "    password=\"\"\n",
    ")\n",
    "\n",
    "if conn.is_connected():\n",
    "    print(\"Connected to MySQL successfully!\")\n",
    "\n",
    "conn.close()\n"
   ]
  },
  {
   "cell_type": "code",
   "execution_count": null,
   "metadata": {},
   "outputs": [
    {
     "name": "stdout",
     "output_type": "stream",
     "text": [
      "Failed to create database called: niyomukiza_theotime_lab\n"
     ]
    }
   ],
   "source": [
    "# DATABASE CREATION\n",
    "import mysql.connector\n",
    "conn = mysql.connector.connect(host=\"localhost\", user=\"root\", password=\"\")\n",
    "cursor = conn.cursor()\n",
    "my_db = \"niyomukiza_theotime_lab\"\n",
    "try:\n",
    "    cursor.execute(f\"CREATE DATABASE {my_db} \")\n",
    "    print(\"Database created successfully!\")\n",
    "except:\n",
    "    print(f\"Failed to create database called: {my_db}\")"
   ]
  },
  {
   "cell_type": "code",
   "execution_count": null,
   "metadata": {},
   "outputs": [
    {
     "name": "stdout",
     "output_type": "stream",
     "text": [
      "Table 'user' created successfully!\n"
     ]
    }
   ],
   "source": [
    "# TABLE USER\n",
    "import mysql.connector\n",
    "\n",
    "# Establish connection to MySQL server (no database selected yet)\n",
    "conn = mysql.connector.connect(\n",
    "    host=\"localhost\",\n",
    "    user=\"root\",\n",
    "    password=\"\"\n",
    ")\n",
    "cursor = conn.cursor()\n",
    "\n",
    "\n",
    "# Select (use) the database\n",
    "cursor.execute(f\"USE {my_db}\")\n",
    "\n",
    "# OPTIONAL: Create the roles table to support the foreign key in user table\n",
    "cursor.execute(\"\"\"\n",
    "    CREATE TABLE IF NOT EXISTS roles (\n",
    "        role_id INT AUTO_INCREMENT PRIMARY KEY,\n",
    "        role_name ENUM('active','inactive')\n",
    "    )\n",
    "\"\"\")\n",
    "\n",
    "# Create the user table\n",
    "cursor.execute(\"\"\"\n",
    "    CREATE TABLE IF NOT EXISTS user (\n",
    "        user_id INT AUTO_INCREMENT PRIMARY KEY,\n",
    "        fname VARCHAR(255) NOT NULL,\n",
    "        lname VARCHAR(255) NOT NULL,\n",
    "        username VARCHAR(255) NOT NULL,\n",
    "        email VARCHAR(255) NOT NULL UNIQUE,\n",
    "        phone VARCHAR(255) NOT NULL,\n",
    "        password VARCHAR(255) NOT NULL,\n",
    "        role_id INT,\n",
    "        status ENUM('Active', 'Inactive') NOT NULL DEFAULT 'Active',\n",
    "        FOREIGN KEY (role_id) REFERENCES roles(role_id)\n",
    "    )\n",
    "\"\"\")\n",
    "\n",
    "print(\"Table 'user' created successfully!\")\n",
    "\n",
    "# Clean up\n",
    "cursor.close()\n",
    "conn.close()\n"
   ]
  },
  {
   "cell_type": "code",
   "execution_count": null,
   "metadata": {},
   "outputs": [
    {
     "name": "stdout",
     "output_type": "stream",
     "text": [
      "Table 'computers' created successfully!\n"
     ]
    }
   ],
   "source": [
    "# TABLE COMPUTERS\n",
    "import mysql.connector\n",
    "\n",
    "# Establish connection to MySQL server (no database selected yet)\n",
    "conn = mysql.connector.connect(\n",
    "    host=\"localhost\",\n",
    "    user=\"root\",\n",
    "    password=\"\"\n",
    ")\n",
    "cursor = conn.cursor()\n",
    "\n",
    "# Specify your database\n",
    "my_db = \"niyomukiza_theotime_lab\"\n",
    "\n",
    "# Select (use) the database\n",
    "cursor.execute(f\"USE {my_db}\")\n",
    "\n",
    "\n",
    "#  Create the computers table\n",
    "cursor.execute(\"\"\"\n",
    "    CREATE TABLE IF NOT EXISTS computers (\n",
    "        computer_id INT AUTO_INCREMENT PRIMARY KEY,\n",
    "        computer_name VARCHAR(255) NOT NULL,\n",
    "        status ENUM('available', 'reserved', 'under maintenance') NOT NULL DEFAULT 'available'\n",
    "    )\n",
    "\"\"\")\n",
    "\n",
    "print(\"Table 'resevation' created successfully!\")\n",
    "\n",
    "# Clean up\n",
    "cursor.close()\n",
    "conn.close()\n"
   ]
  },
  {
   "cell_type": "code",
   "execution_count": null,
   "metadata": {},
   "outputs": [
    {
     "name": "stdout",
     "output_type": "stream",
     "text": [
      "Table 'reservation' created successfully!\n"
     ]
    }
   ],
   "source": [
    "# TABLE RESERVATION\n",
    "import mysql.connector\n",
    "\n",
    "# Establish connection to MySQL server (no database selected yet)\n",
    "conn = mysql.connector.connect(\n",
    "    host=\"localhost\",\n",
    "    user=\"root\",\n",
    "    password=\"\"\n",
    ")\n",
    "cursor = conn.cursor()\n",
    "\n",
    "# Specify your database\n",
    "my_db = \"niyomukiza_theotime_lab\"\n",
    "\n",
    "# Select (use) the database\n",
    "cursor.execute(f\"USE {my_db}\")\n",
    "\n",
    "\n",
    "#  Create the reservation table\n",
    "cursor.execute(\"\"\"\n",
    "    CREATE TABLE IF NOT EXISTS reservation (\n",
    "        reservation_id INT AUTO_INCREMENT PRIMARY KEY,\n",
    "        user_id INT NOT NULL,\n",
    "        computer_id INT NOT NULL,\n",
    "        reservation_date DATETIME NOT NULL DEFAULT CURRENT_TIMESTAMP,\n",
    "        reservation_status ENUM('active', 'completed', 'cancelled') NOT NULL DEFAULT 'active',\n",
    "        FOREIGN KEY (user_id) REFERENCES user(user_id),\n",
    "        FOREIGN KEY (computer_id) REFERENCES computers(computer_id)\n",
    "    )\n",
    "\"\"\")\n",
    "\n",
    "print(\"Table 'reservation' created successfully!\")\n",
    "\n",
    "# Clean up\n",
    "cursor.close()\n",
    "conn.close()\n"
   ]
  },
  {
   "cell_type": "code",
   "execution_count": null,
   "metadata": {},
   "outputs": [
    {
     "name": "stdout",
     "output_type": "stream",
     "text": [
      "Table 'maintenance' created successfully!\n"
     ]
    }
   ],
   "source": [
    "# TABLEMAINTENANCE\n",
    "import mysql.connector\n",
    "\n",
    "# Establish connection to MySQL server (no database selected yet)\n",
    "conn = mysql.connector.connect(\n",
    "    host=\"localhost\",\n",
    "    user=\"root\",\n",
    "    password=\"\"\n",
    ")\n",
    "cursor = conn.cursor()\n",
    "\n",
    "# Specify your database\n",
    "my_db = \"niyomukiza_theotime_lab\"\n",
    "\n",
    "# Select (use) the database\n",
    "cursor.execute(f\"USE {my_db}\")\n",
    "\n",
    "# Create the maintenance table\n",
    "cursor.execute(\"\"\"\n",
    "    CREATE TABLE IF NOT EXISTS maintenance (\n",
    "        maintenance_id INT AUTO_INCREMENT PRIMARY KEY,\n",
    "        computer_id INT NOT NULL,\n",
    "        maintenance_date DATETIME NOT NULL DEFAULT CURRENT_TIMESTAMP,\n",
    "        description VARCHAR(255) NOT NULL,\n",
    "        FOREIGN KEY (computer_id) REFERENCES computers(computer_id)\n",
    "    )\n",
    "\"\"\")\n",
    "\n",
    "print(\"Table 'maintenance' created successfully!\")\n",
    "\n",
    "# Clean up\n",
    "cursor.close()\n",
    "conn.close()\n"
   ]
  },
  {
   "cell_type": "code",
   "execution_count": null,
   "metadata": {},
   "outputs": [
    {
     "name": "stdout",
     "output_type": "stream",
     "text": [
      "Table 'user_roles' created successfully!\n"
     ]
    }
   ],
   "source": [
    "# TABLE USER ROLES CREATION\n",
    "\n",
    "import mysql.connector\n",
    "\n",
    "# Establish connection to MySQL server (no database selected yet)\n",
    "conn = mysql.connector.connect(\n",
    "    host=\"localhost\",\n",
    "    user=\"root\",\n",
    "    password=\"\"\n",
    ")\n",
    "cursor = conn.cursor()\n",
    "\n",
    "# Specify your database\n",
    "my_db = \"niyomukiza_theotime_lab\"\n",
    "\n",
    "# Select (use) the database\n",
    "cursor.execute(f\"USE {my_db}\")\n",
    "\n",
    "# Create the user_roles table\n",
    "cursor.execute(\"\"\"\n",
    "    CREATE TABLE IF NOT EXISTS user_roles (\n",
    "        role_id INT AUTO_INCREMENT PRIMARY KEY,\n",
    "        role_name ENUM('Admin', 'Student', 'Technician') NOT NULL DEFAULT 'Admin'\n",
    "    )\n",
    "\"\"\")\n",
    "\n",
    "print(\"Table 'user_roles' created successfully!\")\n",
    "\n",
    "# Clean up\n",
    "cursor.close()\n",
    "conn.close()\n"
   ]
  },
  {
   "cell_type": "code",
   "execution_count": 29,
   "metadata": {},
   "outputs": [],
   "source": [
    "import mysql.connector\n",
    "\n",
    "# Establish connection to MySQL server (no database selected yet)\n",
    "conn = mysql.connector.connect(\n",
    "    host=\"localhost\",\n",
    "    user=\"root\",\n",
    "    password=\"\"\n",
    ")\n",
    "cursor = conn.cursor()\n",
    "\n",
    "# Specify your database\n",
    "my_db = \"niyomukiza_theotime_lab\"\n",
    "\n",
    "# Select (use) the database\n",
    "cursor.execute(f\"USE {my_db}\")\n",
    "\n",
    "cursor.execute(\"\"\"\n",
    "    INSERT INTO roles (role_name) \n",
    "    VALUES ('active'), ('inactive')\n",
    "\"\"\")\n",
    "conn.commit()  # Make sure to commit the transaction\n"
   ]
  },
  {
   "cell_type": "code",
   "execution_count": null,
   "metadata": {},
   "outputs": [
    {
     "name": "stdout",
     "output_type": "stream",
     "text": [
      "Data inserted successfully!\n"
     ]
    }
   ],
   "source": [
    "# INSERT\n",
    "import mysql.connector\n",
    "\n",
    "# Establish connection to MySQL server (no database selected yet)\n",
    "conn = mysql.connector.connect(\n",
    "    host=\"localhost\",\n",
    "    user=\"root\",\n",
    "    password=\"\"\n",
    ")\n",
    "cursor = conn.cursor()\n",
    "\n",
    "# Specify your database\n",
    "my_db = \"niyomukiza_theotime_lab\"\n",
    "\n",
    "# Select (use) the database\n",
    "cursor.execute(f\"USE {my_db}\")\n",
    "\n",
    "# Ensure the roles exist (if needed)\n",
    "cursor.execute(\"\"\"\n",
    "    INSERT INTO roles (role_name) \n",
    "    VALUES ('active'), ('inactive')\n",
    "\"\"\")\n",
    "conn.commit()  # Commit the transaction to insert roles\n",
    "\n",
    "# Insert data into the user table\n",
    "cursor.execute(\"\"\"\n",
    "    INSERT INTO user (fname, lname, username, email, phone, password, role_id, status) \n",
    "    VALUES \n",
    "    ('theotime', 'niyomukiza', 'theotime', 'theo@gmail.com', '1234567890', 'drew', 1, 'Active'),\n",
    "    ('RW', 'one', 'redz', 'redzrw@gmail.com', '0987654321', 'drum', 2, 'Inactive')\n",
    "\"\"\")\n",
    "conn.commit()  # Commit the transaction to save the data\n",
    "\n",
    "print(\"Data inserted successfully!\")\n",
    "\n",
    "# Clean up\n",
    "cursor.close()\n",
    "conn.close()\n"
   ]
  },
  {
   "cell_type": "code",
   "execution_count": null,
   "metadata": {},
   "outputs": [
    {
     "name": "stdout",
     "output_type": "stream",
     "text": [
      "(1, 'theotime', 'niyomukiza', 'theotime', 'theotime359@gmail.com', '1234567890', 'drew', 1, 'Active')\n",
      "(11, 'theotime', 'niyomukiza', 'theotime', 'theo@gmail.com', '1234567890', 'drew', 1, 'Active')\n"
     ]
    }
   ],
   "source": [
    "# SELECT\n",
    "\n",
    "import mysql.connector\n",
    "\n",
    "# Establish connection to MySQL server (no database selected yet)\n",
    "conn = mysql.connector.connect(\n",
    "    host=\"localhost\",\n",
    "    user=\"root\",\n",
    "    password=\"\"\n",
    ")\n",
    "cursor = conn.cursor()\n",
    "\n",
    "# Select (use) the database\n",
    "my_db = \"niyomukiza_theotime_lab\"  # Replace with your actual database name\n",
    "cursor.execute(f\"USE {my_db}\")\n",
    "\n",
    "# Select active users\n",
    "cursor.execute(\"SELECT * FROM user WHERE status = 'Active'\")\n",
    "\n",
    "# Fetch all rows from the executed query\n",
    "active_users = cursor.fetchall()\n",
    "\n",
    "# Print the results\n",
    "for user in active_users:\n",
    "    print(user)\n",
    "\n",
    "# Clean up\n",
    "cursor.close()\n",
    "conn.close()"
   ]
  },
  {
   "cell_type": "code",
   "execution_count": null,
   "metadata": {},
   "outputs": [
    {
     "name": "stdout",
     "output_type": "stream",
     "text": [
      "User data updated successfully!\n"
     ]
    }
   ],
   "source": [
    "# UPDATE\n",
    "\n",
    "import mysql.connector\n",
    "\n",
    "# Establish connection to MySQL server (no database selected yet)\n",
    "conn = mysql.connector.connect(\n",
    "    host=\"localhost\",\n",
    "    user=\"root\",\n",
    "    password=\"\"\n",
    ")\n",
    "cursor = conn.cursor()\n",
    "\n",
    "# Specify your database\n",
    "my_db = \"niyomukiza_theotime_lab\"\n",
    "\n",
    "# Select (use) the database\n",
    "cursor.execute(f\"USE {my_db}\")\n",
    "\n",
    "# Example update: Change status and phone of a user based on email\n",
    "cursor.execute(\"\"\"\n",
    "    UPDATE user \n",
    "    SET status = 'Inactive', phone = '0788267654'\n",
    "    WHERE email = 'theo@gmail.com'\n",
    "\"\"\")\n",
    "conn.commit()  # Commit the transaction to save the changes\n",
    "\n",
    "print(\"User data updated successfully!\")\n",
    "\n",
    "# Clean up\n",
    "cursor.close()\n",
    "conn.close()\n"
   ]
  },
  {
   "cell_type": "code",
   "execution_count": null,
   "metadata": {},
   "outputs": [
    {
     "name": "stdout",
     "output_type": "stream",
     "text": [
      "(12, 'RW', 'one', 'redz', 'redzrw@gmail.com', '0987654321', 'drum', 2, 'Inactive')\n",
      "(11, 'theotime', 'niyomukiza', 'theotime', 'theo@gmail.com', '0788267654', 'drew', 1, 'Inactive')\n",
      "(2, 'RW', 'one', 'redz', 'redz@gmail.com', '0987654321', 'drum', 2, 'Inactive')\n",
      "(1, 'theotime', 'niyomukiza', 'theotime', 'theotime359@gmail.com', '1234567890', 'drew', 1, 'Active')\n"
     ]
    }
   ],
   "source": [
    "# ORDER BY DESCENDING\n",
    "\n",
    "import mysql.connector\n",
    "\n",
    "# Establish connection to MySQL server (no database selected yet)\n",
    "conn = mysql.connector.connect(\n",
    "    host=\"localhost\",\n",
    "    user=\"root\",\n",
    "    password=\"\"\n",
    ")\n",
    "cursor = conn.cursor()\n",
    "\n",
    "# Specify your database\n",
    "my_db = \"niyomukiza_theotime_lab\"\n",
    "\n",
    "# Select (use) the database\n",
    "cursor.execute(f\"USE {my_db}\")\n",
    "\n",
    "# Retrieve all users ordered by user_id in descending order\n",
    "cursor.execute(\"\"\"\n",
    "    SELECT * FROM user\n",
    "    ORDER BY user_id DESC\n",
    "\"\"\")\n",
    "\n",
    "# Fetch and print the results\n",
    "for row in cursor.fetchall():\n",
    "    print(row)\n",
    "\n",
    "# Clean up\n",
    "cursor.close()\n",
    "conn.close()\n"
   ]
  },
  {
   "cell_type": "code",
   "execution_count": null,
   "metadata": {},
   "outputs": [
    {
     "name": "stdout",
     "output_type": "stream",
     "text": [
      "(1, 'theotime', 'niyomukiza', 'theotime', 'theotime359@gmail.com', '1234567890', 'Active', 'active')\n",
      "(2, 'RW', 'one', 'redz', 'redz@gmail.com', '0987654321', 'Inactive', 'inactive')\n",
      "(11, 'theotime', 'niyomukiza', 'theotime', 'theo@gmail.com', '0788267654', 'Inactive', 'active')\n",
      "(12, 'RW', 'one', 'redz', 'redzrw@gmail.com', '0987654321', 'Inactive', 'inactive')\n"
     ]
    }
   ],
   "source": [
    "# INNER JOIN\n",
    "\n",
    "import mysql.connector\n",
    "\n",
    "# Establish connection to MySQL server (no database selected yet)\n",
    "conn = mysql.connector.connect(\n",
    "    host=\"localhost\",\n",
    "    user=\"root\",\n",
    "    password=\"\"\n",
    ")\n",
    "cursor = conn.cursor()\n",
    "\n",
    "# Specify your database\n",
    "my_db = \"niyomukiza_theotime_lab\"\n",
    "\n",
    "# Select (use) the database\n",
    "cursor.execute(f\"USE {my_db}\")\n",
    "\n",
    "# Perform an INNER JOIN between user and roles\n",
    "cursor.execute(\"\"\"\n",
    "    SELECT user.user_id, user.fname, user.lname, user.username, user.email, user.phone, user.status, roles.role_name \n",
    "    FROM user\n",
    "    INNER JOIN roles ON user.role_id = roles.role_id\n",
    "\"\"\")\n",
    "\n",
    "# Fetch and print the results\n",
    "for row in cursor.fetchall():\n",
    "    print(row)\n",
    "\n",
    "# Clean up\n",
    "cursor.close()\n",
    "conn.close()\n"
   ]
  },
  {
   "cell_type": "code",
   "execution_count": null,
   "metadata": {},
   "outputs": [
    {
     "name": "stdout",
     "output_type": "stream",
     "text": [
      "User status updated to 'Inactive'!\n"
     ]
    }
   ],
   "source": [
    "# DEACTIVATE STATUS\n",
    "\n",
    "import mysql.connector\n",
    "\n",
    "# Establish connection to MySQL server (no database selected yet)\n",
    "conn = mysql.connector.connect(\n",
    "    host=\"localhost\",\n",
    "    user=\"root\",\n",
    "    password=\"\"\n",
    ")\n",
    "cursor = conn.cursor()\n",
    "\n",
    "# Specify your database\n",
    "my_db = \"niyomukiza_theotime_lab\"\n",
    "\n",
    "# Select (use) the database\n",
    "cursor.execute(f\"USE {my_db}\")\n",
    "\n",
    "# Deactivate a user by email\n",
    "cursor.execute(\"\"\"\n",
    "    UPDATE user\n",
    "    SET status = 'Inactive'\n",
    "    WHERE email = 'theo@gmail.com'\n",
    "\"\"\")\n",
    "conn.commit()  # Commit the transaction to save the changes\n",
    "\n",
    "print(\"User status updated to 'Inactive'!\")\n",
    "\n",
    "# Clean up\n",
    "cursor.close()\n",
    "conn.close()\n"
   ]
  },
  {
   "cell_type": "code",
   "execution_count": 45,
   "metadata": {},
   "outputs": [
    {
     "name": "stdout",
     "output_type": "stream",
     "text": [
      "Data inserted into 'computers' table successfully!\n"
     ]
    }
   ],
   "source": [
    "# INSERT INTO COMPUTER TABLE\n",
    "\n",
    "import mysql.connector\n",
    "\n",
    "# Establish connection to MySQL server (no database selected yet)\n",
    "conn = mysql.connector.connect(\n",
    "    host=\"localhost\",\n",
    "    user=\"root\",\n",
    "    password=\"\"\n",
    ")\n",
    "cursor = conn.cursor()\n",
    "\n",
    "# Specify your database\n",
    "my_db = \"niyomukiza_theotime_lab\"\n",
    "\n",
    "# Select (use) the database\n",
    "cursor.execute(f\"USE {my_db}\")\n",
    "\n",
    "# Insert records into the computers table\n",
    "cursor.execute(\"\"\"\n",
    "    INSERT INTO computers (computer_name, status) \n",
    "    VALUES \n",
    "    ('LENOVO 1', 'available'),\n",
    "    ('MAC 2', 'reserved'),\n",
    "    ('HP 3', 'under maintenance')\n",
    "\"\"\")\n",
    "\n",
    "conn.commit()  # Commit the transaction to save the data\n",
    "\n",
    "print(\"Data inserted into 'computers' table successfully!\")\n",
    "\n",
    "# Clean up\n",
    "cursor.close()\n",
    "conn.close()\n"
   ]
  },
  {
   "cell_type": "code",
   "execution_count": 46,
   "metadata": {},
   "outputs": [
    {
     "name": "stdout",
     "output_type": "stream",
     "text": [
      "(1, 'Computer 1', 'available')\n",
      "(4, 'LENOVO 1', 'available')\n"
     ]
    }
   ],
   "source": [
    "# SELECT IN COMPUTER TABLE\n",
    "import mysql.connector\n",
    "\n",
    "# Establish connection to MySQL server\n",
    "conn = mysql.connector.connect(\n",
    "    host=\"localhost\",\n",
    "    user=\"root\",\n",
    "    password=\"\"\n",
    ")\n",
    "cursor = conn.cursor()\n",
    "\n",
    "# Specify your database\n",
    "my_db = \"niyomukiza_theotime_lab\"\n",
    "\n",
    "# Select (use) the database\n",
    "cursor.execute(f\"USE {my_db}\")\n",
    "\n",
    "# Select records where status is 'available'\n",
    "cursor.execute(\"SELECT * FROM computers WHERE status = 'available'\")\n",
    "\n",
    "# Fetch and print the results\n",
    "for row in cursor.fetchall():\n",
    "    print(row)\n",
    "\n",
    "# Clean up\n",
    "cursor.close()\n",
    "conn.close()\n"
   ]
  },
  {
   "cell_type": "code",
   "execution_count": null,
   "metadata": {},
   "outputs": [
    {
     "name": "stdout",
     "output_type": "stream",
     "text": [
      "All under maintenance computers updated to 'available'.\n"
     ]
    }
   ],
   "source": [
    "\n",
    "# UPDATE\n",
    "import mysql.connector\n",
    "\n",
    "# Establish connection to MySQL server\n",
    "conn = mysql.connector.connect(\n",
    "    host=\"localhost\",\n",
    "    user=\"root\",\n",
    "    password=\"\"\n",
    ")\n",
    "cursor = conn.cursor()\n",
    "\n",
    "# Specify your database\n",
    "my_db = \"niyomukiza_theotime_lab\"\n",
    "\n",
    "# Select (use) the database\n",
    "cursor.execute(f\"USE {my_db}\")\n",
    "cursor.execute(\"\"\"\n",
    "    UPDATE computers\n",
    "    SET status = 'available'\n",
    "    WHERE status = 'under maintenance'\n",
    "\"\"\")\n",
    "conn.commit()\n",
    "print(\"All under maintenance computers updated to 'available'.\")\n",
    "\n",
    "# Clean up\n",
    "cursor.close()\n",
    "conn.close()\n",
    "\n"
   ]
  },
  {
   "cell_type": "code",
   "execution_count": 49,
   "metadata": {},
   "outputs": [
    {
     "name": "stdout",
     "output_type": "stream",
     "text": [
      "(6, 'HP 3', 'available')\n",
      "(5, 'MAC 2', 'reserved')\n",
      "(4, 'LENOVO 1', 'available')\n",
      "(3, 'Computer 3', 'available')\n",
      "(2, 'Computer 2', 'reserved')\n",
      "(1, 'Computer 1', 'available')\n"
     ]
    }
   ],
   "source": [
    "#ORDER BY DESC\n",
    "import mysql.connector\n",
    "\n",
    "# Establish connection to MySQL server\n",
    "conn = mysql.connector.connect(\n",
    "    host=\"localhost\",\n",
    "    user=\"root\",\n",
    "    password=\"\"\n",
    ")\n",
    "cursor = conn.cursor()\n",
    "\n",
    "# Specify your database\n",
    "my_db = \"niyomukiza_theotime_lab\"\n",
    "\n",
    "# Select (use) the database\n",
    "cursor.execute(f\"USE {my_db}\")\n",
    "\n",
    "# Select all records from the computers table ordered by computer_id in descending order\n",
    "cursor.execute(\"\"\"\n",
    "    SELECT * FROM computers\n",
    "    ORDER BY computer_id DESC\n",
    "\"\"\")\n",
    "\n",
    "# Fetch and print the results\n",
    "for row in cursor.fetchall():\n",
    "    print(row)\n",
    "\n",
    "# Clean up\n",
    "cursor.close()\n",
    "conn.close()\n"
   ]
  },
  {
   "cell_type": "code",
   "execution_count": null,
   "metadata": {},
   "outputs": [
    {
     "name": "stdout",
     "output_type": "stream",
     "text": [
      "Computer status updated to 'under maintenance'.\n"
     ]
    }
   ],
   "source": [
    "#DEACTIVATE STATUS\n",
    "import mysql.connector\n",
    "\n",
    "# Establish connection to MySQL server\n",
    "conn = mysql.connector.connect(\n",
    "    host=\"localhost\",\n",
    "    user=\"root\",\n",
    "    password=\"\"\n",
    ")\n",
    "cursor = conn.cursor()\n",
    "\n",
    "# Specify your database\n",
    "my_db = \"niyomukiza_theotime_lab\"\n",
    "\n",
    "# Select (use) the database\n",
    "cursor.execute(f\"USE {my_db}\")\n",
    "\n",
    "# Update the status of a computer (for example, change status to 'under maintenance')\n",
    "cursor.execute(\"\"\"\n",
    "    UPDATE computers\n",
    "    SET status = 'under maintenance'\n",
    "    WHERE computer_name = 'LENOVO 1'\n",
    "\"\"\")\n",
    "\n",
    "# Commit the transaction to save the changes\n",
    "conn.commit()\n",
    "\n",
    "print(\"Computer status updated to 'under maintenance'.\")\n",
    "\n",
    "# Clean up\n",
    "cursor.close()\n",
    "conn.close()\n"
   ]
  },
  {
   "cell_type": "code",
   "execution_count": 51,
   "metadata": {},
   "outputs": [
    {
     "name": "stdout",
     "output_type": "stream",
     "text": [
      "Data inserted into 'user_roles' table successfully!\n"
     ]
    }
   ],
   "source": [
    "#INSERT INTO USER ROLES\n",
    "import mysql.connector\n",
    "\n",
    "# Establish connection to MySQL server\n",
    "conn = mysql.connector.connect(\n",
    "    host=\"localhost\",\n",
    "    user=\"root\",\n",
    "    password=\"\"\n",
    ")\n",
    "cursor = conn.cursor()\n",
    "\n",
    "# Specify your database\n",
    "my_db = \"niyomukiza_theotime_lab\"\n",
    "\n",
    "# Select (use) the database\n",
    "cursor.execute(f\"USE {my_db}\")\n",
    "\n",
    "# Insert multiple records into the user_roles table\n",
    "cursor.execute(\"\"\"\n",
    "    INSERT INTO user_roles (role_name)\n",
    "    VALUES\n",
    "    ('Admin'),\n",
    "    ('Student'),\n",
    "    ('Technician')\n",
    "\"\"\")\n",
    "\n",
    "# Commit the transaction to save the data\n",
    "conn.commit()\n",
    "\n",
    "print(\"Data inserted into 'user_roles' table successfully!\")\n",
    "\n",
    "# Clean up\n",
    "cursor.close()\n",
    "conn.close()\n"
   ]
  },
  {
   "cell_type": "code",
   "execution_count": 53,
   "metadata": {},
   "outputs": [
    {
     "name": "stdout",
     "output_type": "stream",
     "text": [
      "(1, 1, 2, datetime.datetime(2025, 3, 17, 10, 0), 'active')\n",
      "(2, 2, 3, datetime.datetime(2025, 3, 18, 11, 0), 'active')\n"
     ]
    }
   ],
   "source": [
    "# INSERT INTO RESERVATION TABLE\n",
    "\n",
    "import mysql.connector\n",
    "\n",
    "# Establish connection to MySQL server\n",
    "conn = mysql.connector.connect(\n",
    "    host=\"localhost\",\n",
    "    user=\"root\",\n",
    "    password=\"\"\n",
    ")\n",
    "cursor = conn.cursor()\n",
    "\n",
    "# Specify your database\n",
    "my_db = \"niyomukiza_theotime_lab\"\n",
    "\n",
    "# Select (use) the database\n",
    "cursor.execute(f\"USE {my_db}\")\n",
    "\n",
    "# Insert records into the reservation table\n",
    "cursor.execute(\"\"\"\n",
    "    INSERT INTO reservation (user_id, computer_id, reservation_date, reservation_status) \n",
    "    VALUES \n",
    "    (1, 2, '2025-03-17 10:00:00', 'active'),\n",
    "    (2, 3, '2025-03-18 11:00:00', 'active')\n",
    "\"\"\")\n",
    "\n",
    "# Commit the transaction to save the data\n",
    "conn.commit()\n",
    "\n",
    "# Fetch and display all the rows from the reservation table\n",
    "cursor.execute(\"SELECT * FROM reservation\")\n",
    "\n",
    "for row in cursor.fetchall():\n",
    "    print(row)\n",
    "\n",
    "# Clean up\n",
    "cursor.close()\n",
    "conn.close()\n",
    "\n"
   ]
  },
  {
   "cell_type": "code",
   "execution_count": 54,
   "metadata": {},
   "outputs": [
    {
     "name": "stdout",
     "output_type": "stream",
     "text": [
      "(1, 1, datetime.datetime(2025, 3, 17, 9, 0), 'Routine checkup')\n",
      "(2, 2, datetime.datetime(2025, 3, 18, 10, 0), 'Hardware repair')\n",
      "(3, 3, datetime.datetime(2025, 3, 19, 11, 0), 'Software update')\n"
     ]
    }
   ],
   "source": [
    "#INSERT INTO MAINTENANCE\n",
    "import mysql.connector\n",
    "\n",
    "# Establish connection to MySQL server\n",
    "conn = mysql.connector.connect(\n",
    "    host=\"localhost\",\n",
    "    user=\"root\",\n",
    "    password=\"\"\n",
    ")\n",
    "cursor = conn.cursor()\n",
    "\n",
    "# Specify your database\n",
    "my_db = \"niyomukiza_theotime_lab\"\n",
    "\n",
    "# Select (use) the database\n",
    "cursor.execute(f\"USE {my_db}\")\n",
    "\n",
    "# Insert records into the maintenance table\n",
    "cursor.execute(\"\"\"\n",
    "    INSERT INTO maintenance (computer_id, maintenance_date, description) \n",
    "    VALUES \n",
    "    (1, '2025-03-17 09:00:00', 'Routine checkup'),\n",
    "    (2, '2025-03-18 10:00:00', 'Hardware repair'),\n",
    "    (3, '2025-03-19 11:00:00', 'Software update')\n",
    "\"\"\")\n",
    "\n",
    "# Commit the transaction to save the data\n",
    "conn.commit()\n",
    "\n",
    "# Fetch and display all rows from the maintenance table\n",
    "cursor.execute(\"SELECT * FROM maintenance\")\n",
    "\n",
    "for row in cursor.fetchall():\n",
    "    print(row)\n",
    "\n",
    "# Clean up\n",
    "cursor.close()\n",
    "conn.close()\n"
   ]
  }
 ],
 "metadata": {
  "kernelspec": {
   "display_name": "Python 3",
   "language": "python",
   "name": "python3"
  },
  "language_info": {
   "codemirror_mode": {
    "name": "ipython",
    "version": 3
   },
   "file_extension": ".py",
   "mimetype": "text/x-python",
   "name": "python",
   "nbconvert_exporter": "python",
   "pygments_lexer": "ipython3",
   "version": "3.13.1"
  }
 },
 "nbformat": 4,
 "nbformat_minor": 2
}
